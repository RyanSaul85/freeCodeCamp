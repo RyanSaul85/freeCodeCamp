{
  "nbformat": 4,
  "nbformat_minor": 0,
  "metadata": {
    "colab": {
      "name": "freeCodeCamp-mean_var_std.ipynb",
      "provenance": [],
      "authorship_tag": "ABX9TyNOxIPWhFRRhcsxLe6d6wkN",
      "include_colab_link": true
    },
    "kernelspec": {
      "name": "python3",
      "display_name": "Python 3"
    },
    "language_info": {
      "name": "python"
    }
  },
  "cells": [
    {
      "cell_type": "markdown",
      "metadata": {
        "id": "view-in-github",
        "colab_type": "text"
      },
      "source": [
        "<a href=\"https://colab.research.google.com/github/RyanSaul85/freeCodeCamp/blob/main/freeCodeCamp_mean_var_std.ipynb\" target=\"_parent\"><img src=\"https://colab.research.google.com/assets/colab-badge.svg\" alt=\"Open In Colab\"/></a>"
      ]
    },
    {
      "cell_type": "markdown",
      "source": [
        "## **Mean-Variance-Standard Deviation Calculator**"
      ],
      "metadata": {
        "id": "95urvi9vnlp8"
      }
    },
    {
      "cell_type": "markdown",
      "source": [
        "Create a function named `calculate()` in `mean_var_std.py` that uses Numpy to output the mean, variance, standard deviation, max, min, and sum of the rows, columns, and elements in a 3 x 3 matrix.\n",
        "\n",
        "The input of the function should be a list containing 9 digits. The function should convert the list into a 3 x 3 Numpy array, and then return a dictionary containing the mean, variance, standard deviation, max, min, and sum along both axes and for the flattened matrix.\n",
        "\n",
        "If a list containing less than 9 elements is passed into the function, it should raise a `ValueError` exception with the message: \"List must contain nine numbers.\" The values in the returned dictionary should be lists and not Numpy arrays."
      ],
      "metadata": {
        "id": "2xgAEDB9n13y"
      }
    },
    {
      "cell_type": "code",
      "execution_count": 1,
      "metadata": {
        "id": "COPs4JLTldX5"
      },
      "outputs": [],
      "source": [
        "import numpy as np\n",
        "\n",
        "def calculate(list) :\n",
        "    if (len(list)!=9) :\n",
        "        raise ValueError(\"List must contain nine numbers.\")\n",
        "    calculations = dict()\n",
        "    tempList = []\n",
        "    reshapedList = np.reshape(list, (3,3)).tolist()\n",
        "    functions = {'mean': np.mean, 'variance': np.var,\n",
        "                 'standard deviation': np.std,\n",
        "                 'max': np.max, 'min': np.min, 'sum': np.sum}\n",
        "    for key in functions:\n",
        "        tempList.append(functions[key](reshapedList, axis = 0).tolist()) \n",
        "        tempList.append(functions[key](reshapedList, axis = 1).tolist())\n",
        "        tempList.append(functions[key](list).tolist())\n",
        "        calculations[key] = tempList\n",
        "        tempList = []\n",
        "\n",
        "    return calculations"
      ]
    },
    {
      "cell_type": "code",
      "source": [
        "# trying with a list of only 8 numbers\n",
        "\n",
        "list1 = [0,1,2,3,4,5,6,7]\n",
        "calculate(list1)"
      ],
      "metadata": {
        "colab": {
          "base_uri": "https://localhost:8080/",
          "height": 313
        },
        "id": "QpFlSzBYl8j6",
        "outputId": "19270840-735a-47ea-efb6-80c5ff37278c"
      },
      "execution_count": 6,
      "outputs": [
        {
          "output_type": "error",
          "ename": "ValueError",
          "evalue": "ignored",
          "traceback": [
            "\u001b[0;31m---------------------------------------------------------------------------\u001b[0m",
            "\u001b[0;31mValueError\u001b[0m                                Traceback (most recent call last)",
            "\u001b[0;32m<ipython-input-6-e8a3be116b3c>\u001b[0m in \u001b[0;36m<module>\u001b[0;34m\u001b[0m\n\u001b[1;32m      1\u001b[0m \u001b[0mlist1\u001b[0m \u001b[0;34m=\u001b[0m \u001b[0;34m[\u001b[0m\u001b[0;36m0\u001b[0m\u001b[0;34m,\u001b[0m\u001b[0;36m1\u001b[0m\u001b[0;34m,\u001b[0m\u001b[0;36m2\u001b[0m\u001b[0;34m,\u001b[0m\u001b[0;36m3\u001b[0m\u001b[0;34m,\u001b[0m\u001b[0;36m4\u001b[0m\u001b[0;34m,\u001b[0m\u001b[0;36m5\u001b[0m\u001b[0;34m,\u001b[0m\u001b[0;36m6\u001b[0m\u001b[0;34m,\u001b[0m\u001b[0;36m7\u001b[0m\u001b[0;34m]\u001b[0m\u001b[0;34m\u001b[0m\u001b[0;34m\u001b[0m\u001b[0m\n\u001b[0;32m----> 2\u001b[0;31m \u001b[0mcalculate\u001b[0m\u001b[0;34m(\u001b[0m\u001b[0mlist1\u001b[0m\u001b[0;34m)\u001b[0m\u001b[0;34m\u001b[0m\u001b[0;34m\u001b[0m\u001b[0m\n\u001b[0m",
            "\u001b[0;32m<ipython-input-1-b2c51a8c0b0b>\u001b[0m in \u001b[0;36mcalculate\u001b[0;34m(list)\u001b[0m\n\u001b[1;32m      3\u001b[0m \u001b[0;32mdef\u001b[0m \u001b[0mcalculate\u001b[0m\u001b[0;34m(\u001b[0m\u001b[0mlist\u001b[0m\u001b[0;34m)\u001b[0m \u001b[0;34m:\u001b[0m\u001b[0;34m\u001b[0m\u001b[0;34m\u001b[0m\u001b[0m\n\u001b[1;32m      4\u001b[0m     \u001b[0;32mif\u001b[0m \u001b[0;34m(\u001b[0m\u001b[0mlen\u001b[0m\u001b[0;34m(\u001b[0m\u001b[0mlist\u001b[0m\u001b[0;34m)\u001b[0m\u001b[0;34m!=\u001b[0m\u001b[0;36m9\u001b[0m\u001b[0;34m)\u001b[0m \u001b[0;34m:\u001b[0m\u001b[0;34m\u001b[0m\u001b[0;34m\u001b[0m\u001b[0m\n\u001b[0;32m----> 5\u001b[0;31m         \u001b[0;32mraise\u001b[0m \u001b[0mValueError\u001b[0m\u001b[0;34m(\u001b[0m\u001b[0;34m\"List must contain nine numbers.\"\u001b[0m\u001b[0;34m)\u001b[0m\u001b[0;34m\u001b[0m\u001b[0;34m\u001b[0m\u001b[0m\n\u001b[0m\u001b[1;32m      6\u001b[0m     \u001b[0mcalculations\u001b[0m \u001b[0;34m=\u001b[0m \u001b[0mdict\u001b[0m\u001b[0;34m(\u001b[0m\u001b[0;34m)\u001b[0m\u001b[0;34m\u001b[0m\u001b[0;34m\u001b[0m\u001b[0m\n\u001b[1;32m      7\u001b[0m     \u001b[0mtempList\u001b[0m \u001b[0;34m=\u001b[0m \u001b[0;34m[\u001b[0m\u001b[0;34m]\u001b[0m\u001b[0;34m\u001b[0m\u001b[0;34m\u001b[0m\u001b[0m\n",
            "\u001b[0;31mValueError\u001b[0m: List must contain nine numbers."
          ]
        }
      ]
    },
    {
      "cell_type": "code",
      "source": [
        "list2 = [0,1,2,3,4,5,6,7,8]\n",
        "calculate(list2)"
      ],
      "metadata": {
        "colab": {
          "base_uri": "https://localhost:8080/"
        },
        "id": "qw9N_NwcmHx9",
        "outputId": "f2303cfb-da1d-4392-8c2f-7b63ea132106"
      },
      "execution_count": 7,
      "outputs": [
        {
          "output_type": "execute_result",
          "data": {
            "text/plain": [
              "{'mean': [[3.0, 4.0, 5.0], [1.0, 4.0, 7.0], 4.0],\n",
              " 'variance': [[6.0, 6.0, 6.0],\n",
              "  [0.6666666666666666, 0.6666666666666666, 0.6666666666666666],\n",
              "  6.666666666666667],\n",
              " 'standard deviation': [[2.449489742783178,\n",
              "   2.449489742783178,\n",
              "   2.449489742783178],\n",
              "  [0.816496580927726, 0.816496580927726, 0.816496580927726],\n",
              "  2.581988897471611],\n",
              " 'max': [[6, 7, 8], [2, 5, 8], 8],\n",
              " 'min': [[0, 1, 2], [0, 3, 6], 0],\n",
              " 'sum': [[9, 12, 15], [3, 12, 21], 36]}"
            ]
          },
          "metadata": {},
          "execution_count": 7
        }
      ]
    },
    {
      "cell_type": "code",
      "source": [
        "# getting a random list\n",
        "\n",
        "import random\n",
        " \n",
        "rand_list=[]\n",
        "n=9\n",
        "for i in range(n):\n",
        "    rand_list.append(random.randint(0,100))\n",
        "print(rand_list)\n",
        "calculate(rand_list)"
      ],
      "metadata": {
        "colab": {
          "base_uri": "https://localhost:8080/"
        },
        "id": "R-SOTWkamWYh",
        "outputId": "7834cd71-b593-4ce3-d3a0-60bd1c8b93eb"
      },
      "execution_count": 13,
      "outputs": [
        {
          "output_type": "stream",
          "name": "stdout",
          "text": [
            "[12, 97, 76, 36, 0, 78, 11, 25, 83]\n"
          ]
        },
        {
          "output_type": "execute_result",
          "data": {
            "text/plain": [
              "{'mean': [[19.666666666666668, 40.666666666666664, 79.0],\n",
              "  [61.666666666666664, 38.0, 39.666666666666664],\n",
              "  46.44444444444444],\n",
              " 'variance': [[133.55555555555554, 1690.888888888889, 8.666666666666666],\n",
              "  [1306.8888888888887, 1016.0, 971.5555555555557],\n",
              "  1214.4691358024693],\n",
              " 'standard deviation': [[11.55662388223981,\n",
              "   41.12041936664665,\n",
              "   2.943920288775949],\n",
              "  [36.15091823023156, 31.874754901018456, 31.169785940162562],\n",
              "  34.849234364652396],\n",
              " 'max': [[36, 97, 83], [97, 78, 83], 97],\n",
              " 'min': [[11, 0, 76], [12, 0, 11], 0],\n",
              " 'sum': [[59, 122, 237], [185, 114, 119], 418]}"
            ]
          },
          "metadata": {},
          "execution_count": 13
        }
      ]
    },
    {
      "cell_type": "code",
      "source": [],
      "metadata": {
        "id": "8qZE4OWPmokJ"
      },
      "execution_count": null,
      "outputs": []
    }
  ]
}